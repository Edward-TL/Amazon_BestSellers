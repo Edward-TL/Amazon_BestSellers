{
 "cells": [
  {
   "cell_type": "code",
   "execution_count": 1,
   "metadata": {},
   "outputs": [],
   "source": [
    "from scraper.filters import *\n",
    "from scraper.main import *\n",
    "from scraper.objects import *\n",
    "from scraper.printer import *\n",
    "from scraper.scrap_tools import *"
   ]
  },
  {
   "cell_type": "code",
   "execution_count": 2,
   "metadata": {},
   "outputs": [
    {
     "name": "stdout",
     "output_type": "stream",
     "text": [
      "      Log Date    | Country |        category       | header | status | Loaded |\n",
      " 2021-01-28 23:36 |    mx   |        grocery        |   0    |   200  |   Yes  |\n",
      " 2021-01-28 23:36 |    mx   |       automotive      |   1    |   200  |   Yes  |\n",
      " 2021-01-28 23:36 |    mx   |          baby         |   2    |   200  |   Yes  |\n",
      " 2021-01-28 23:36 |    mx   |         sports        |   0    |   200  |   Yes  |\n",
      " 2021-01-28 23:36 |    mx   |     amazon-devices    |   1    |   200  |   Yes  |\n",
      " 2021-01-28 23:36 |    mx   |      electronics      |   2    |   200  |   Yes  |\n",
      " 2021-01-28 23:36 |    mx   |         tools         |   0    |   200  |   Yes  |\n",
      " 2021-01-28 23:37 |    mx   |        kitchen        |   1    |   200  |   Yes  |\n",
      " 2021-01-28 23:37 |    mx   |       industrial      |   2    |   200  |   Yes  |\n",
      " 2021-01-28 23:37 |    mx   |  musical-instruments  |   0    |   200  |   Yes  |\n",
      " 2021-01-28 23:37 |    mx   |          toys         |   1    |   200  |   Yes  |\n",
      " 2021-01-28 23:37 |    mx   |         books         |   2    |   200  |   Yes  |\n",
      " 2021-01-28 23:37 |    mx   |         music         |   0    |   200  |   Yes  |\n",
      " 2021-01-28 23:37 |    mx   |     officeproduct     |   1    |   200  |   Yes  |\n",
      " 2021-01-28 23:37 |    mx   |          dvd          |   2    |   200  |   Yes  |\n",
      " 2021-01-28 23:37 |    mx   |        handmade       |   0    |   200  |   Yes  |\n",
      " 2021-01-28 23:37 |    mx   |      pet-supplies     |   1    |   200  |   Yes  |\n",
      " 2021-01-28 23:37 |    mx   |         shoes         |   2    |   200  |   Yes  |\n",
      " 2021-01-28 23:37 |    mx   |          hpc          |   0    |   200  |   Yes  |\n",
      " 2021-01-28 23:37 |    mx   |        software       |   1    |   200  |   Yes  |\n",
      " 2021-01-28 23:37 |    mx   |      digital-text     |   2    |   200  |   Yes  |\n",
      " 2021-01-28 23:37 |    mx   |       videogames      |   0    |   200  |   Yes  |\n",
      " ---------------- | ------- | --------------------- | ------ | ------ | ------ |\n",
      " 2021-01-28 23:37 |    br   |     amazon-devices    |   0    |   200  |   Yes  |\n",
      " 2021-01-28 23:37 |    br   |       automotive      |   1    |   200  |   Yes  |\n",
      " 2021-01-28 23:37 |    br   |        grocery        |   2    |   200  |   Yes  |\n",
      " 2021-01-28 23:37 |    br   |     baby-products     |   0    |   200  |   Yes  |\n",
      " 2021-01-28 23:37 |    br   |         sports        |   1    |   200  |   Yes  |\n",
      " 2021-01-28 23:37 |    br   |      electronics      |   2    |   200  |   Yes  |\n",
      " 2021-01-28 23:37 |    br   |           hi          |   0    |   200  |   Yes  |\n",
      " 2021-01-28 23:37 |    br   |        kitchen        |   1    |   200  |   Yes  |\n",
      " 2021-01-28 23:37 |    br   |          toys         |   2    |   200  |   Yes  |\n",
      " 2021-01-28 23:37 |    br   |         books         |   0    |   200  |   Yes  |\n",
      " 2021-01-28 23:37 |    br   |         music         |   1    |   200  |   Yes  |\n",
      " 2021-01-28 23:37 |    br   |         office        |   2    |   200  |   Yes  |\n",
      " 2021-01-28 23:37 |    br   |          dvd          |   0    |   200  |   Yes  |\n",
      " 2021-01-28 23:37 |    br   |      pet-products     |   1    |   200  |   Yes  |\n",
      " 2021-01-28 23:37 |    br   |        fashion        |   2    |   200  |   Yes  |\n",
      " 2021-01-28 23:37 |    br   |          hpc          |   0    |   200  |   Yes  |\n",
      " 2021-01-28 23:37 |    br   |       computers       |   1    |   200  |   Yes  |\n",
      " 2021-01-28 23:37 |    br   |      digital-text     |   2    |   200  |   Yes  |\n",
      " 2021-01-28 23:37 |    br   |       videogames      |   0    |   200  |   Yes  |\n",
      " 2021-01-28 23:37 |    br   |      mobile-apps      |   1    |   200  |   Yes  |\n",
      " 2021-01-28 23:37 |    br   |         beauty        |   2    |   200  |   Yes  |\n",
      " 2021-01-28 23:37 |    br   |          home         |   0    |   200  |   Yes  |\n",
      " 2021-01-28 23:37 |    br   |       appliances      |   1    |   200  |   Yes  |\n",
      " 2021-01-28 23:38 |    br   |    lawn-and-garden    |   2    |   200  |   Yes  |\n",
      " 2021-01-28 23:38 |    br   |       furniture       |   0    |   200  |   Yes  |\n",
      "\n",
      "                                ----------------------\n",
      "                                |   Log file loaded   |\n",
      "                                ----------------------\n",
      "\n",
      "    \n"
     ]
    }
   ],
   "source": [
    "scrap_amazon()"
   ]
  },
  {
   "cell_type": "code",
   "execution_count": null,
   "metadata": {},
   "outputs": [],
   "source": []
  },
  {
   "cell_type": "code",
   "execution_count": null,
   "metadata": {},
   "outputs": [],
   "source": []
  }
 ],
 "metadata": {
  "kernelspec": {
   "display_name": "Python 3",
   "language": "python",
   "name": "python3"
  },
  "language_info": {
   "codemirror_mode": {
    "name": "ipython",
    "version": 3
   },
   "file_extension": ".py",
   "mimetype": "text/x-python",
   "name": "python",
   "nbconvert_exporter": "python",
   "pygments_lexer": "ipython3",
   "version": "3.8.5"
  }
 },
 "nbformat": 4,
 "nbformat_minor": 4
}
