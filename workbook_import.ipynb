{
 "cells": [
  {
   "cell_type": "code",
   "execution_count": 7,
   "metadata": {},
   "outputs": [
    {
     "ename": "SyntaxError",
     "evalue": "invalid syntax (<ipython-input-7-df92ef4faeb1>, line 1)",
     "output_type": "error",
     "traceback": [
      "\u001b[0;36m  File \u001b[0;32m\"<ipython-input-7-df92ef4faeb1>\"\u001b[0;36m, line \u001b[0;32m1\u001b[0m\n\u001b[0;31m    from scraper.objects import * as objects\u001b[0m\n\u001b[0m                                  ^\u001b[0m\n\u001b[0;31mSyntaxError\u001b[0m\u001b[0;31m:\u001b[0m invalid syntax\n"
     ]
    }
   ],
   "source": [
    "from scraper.objects import *"
   ]
  },
  {
   "cell_type": "code",
   "execution_count": 9,
   "metadata": {},
   "outputs": [
    {
     "data": {
      "text/plain": [
       "{'top_food_and_drinks': 'grocery',\n",
       " 'top_automotive': 'automotive',\n",
       " 'top_baby': 'baby',\n",
       " 'top_sports': 'sports',\n",
       " 'top_amazon_devices': 'amazon-devices',\n",
       " 'top_electronics': 'electronics',\n",
       " 'top_tools': 'tools',\n",
       " 'top_kitchen': 'kitchen',\n",
       " 'top_industrial_emp_cience': 'industrial',\n",
       " 'top_musical_instruments': 'musical-instruments',\n",
       " 'top_toys': 'toys',\n",
       " 'top_books': 'books',\n",
       " 'top_music': 'music',\n",
       " 'top_officeproduct': 'officeproduct',\n",
       " 'top_movies': 'dvd',\n",
       " 'top_handmade': 'handmade',\n",
       " 'top_pet_supplies': 'pet-supplies',\n",
       " 'top_fashion': 'shoes',\n",
       " 'top_health': 'hpc',\n",
       " 'top_software': 'software',\n",
       " 'top_kindle': 'digital-text',\n",
       " 'top_videogames': 'videogames'}"
      ]
     },
     "execution_count": 9,
     "metadata": {},
     "output_type": "execute_result"
    }
   ],
   "source": [
    "mx_dict"
   ]
  },
  {
   "cell_type": "code",
   "execution_count": 19,
   "metadata": {},
   "outputs": [
    {
     "ename": "AttributeError",
     "evalue": "module 'scraper.objects' has no attribute 'in_box'",
     "output_type": "error",
     "traceback": [
      "\u001b[0;31m---------------------------------------------------------------------------\u001b[0m",
      "\u001b[0;31mAttributeError\u001b[0m                            Traceback (most recent call last)",
      "\u001b[0;32m<ipython-input-19-8b7f206bfeda>\u001b[0m in \u001b[0;36m<module>\u001b[0;34m\u001b[0m\n\u001b[0;32m----> 1\u001b[0;31m \u001b[0mobjects\u001b[0m\u001b[0;34m.\u001b[0m\u001b[0min_box\u001b[0m\u001b[0;34m\u001b[0m\u001b[0;34m\u001b[0m\u001b[0m\n\u001b[0m",
      "\u001b[0;31mAttributeError\u001b[0m: module 'scraper.objects' has no attribute 'in_box'"
     ]
    }
   ],
   "source": [
    "objects.in_box"
   ]
  }
 ],
 "metadata": {
  "kernelspec": {
   "display_name": "Python 3",
   "language": "python",
   "name": "python3"
  },
  "language_info": {
   "codemirror_mode": {
    "name": "ipython",
    "version": 3
   },
   "file_extension": ".py",
   "mimetype": "text/x-python",
   "name": "python",
   "nbconvert_exporter": "python",
   "pygments_lexer": "ipython3",
   "version": "3.8.5"
  }
 },
 "nbformat": 4,
 "nbformat_minor": 4
}
